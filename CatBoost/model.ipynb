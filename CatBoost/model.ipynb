{
 "cells": [
  {
   "cell_type": "markdown",
   "id": "3b46e8a6",
   "metadata": {},
   "source": [
    "**Importing Libraries**"
   ]
  },
  {
   "cell_type": "code",
   "execution_count": 1,
   "id": "fabcc6b9",
   "metadata": {},
   "outputs": [],
   "source": [
    "import pandas as pd\n",
    "import numpy as np\n",
    "import matplotlib.pyplot as plt\n",
    "import seaborn as sns\n",
    "from catboost import CatBoostClassifier, Pool\n",
    "from sklearn.model_selection import train_test_split, GridSearchCV\n",
    "from sklearn.metrics import accuracy_score, classification_report, confusion_matrix, roc_auc_score\n",
    "from sklearn.preprocessing import StandardScaler\n",
    "from sklearn.pipeline import Pipeline\n",
    "from imblearn.over_sampling import SMOTE\n",
    "from joblib import dump, load"
   ]
  },
  {
   "cell_type": "code",
   "execution_count": 38,
   "id": "1f6ffc7f",
   "metadata": {},
   "outputs": [],
   "source": [
    "df = pd.read_csv(r\"D:\\BINUS\\... SEMESTER 4\\Research Methodology in Computer Science\\AOL\\Models\\stroke_risk_dataset.csv\")"
   ]
  },
  {
   "cell_type": "code",
   "execution_count": 39,
   "id": "4c26e35f",
   "metadata": {},
   "outputs": [
    {
     "data": {
      "text/html": [
       "<div>\n",
       "<style scoped>\n",
       "    .dataframe tbody tr th:only-of-type {\n",
       "        vertical-align: middle;\n",
       "    }\n",
       "\n",
       "    .dataframe tbody tr th {\n",
       "        vertical-align: top;\n",
       "    }\n",
       "\n",
       "    .dataframe thead th {\n",
       "        text-align: right;\n",
       "    }\n",
       "</style>\n",
       "<table border=\"1\" class=\"dataframe\">\n",
       "  <thead>\n",
       "    <tr style=\"text-align: right;\">\n",
       "      <th></th>\n",
       "      <th>Chest Pain</th>\n",
       "      <th>Shortness of Breath</th>\n",
       "      <th>Irregular Heartbeat</th>\n",
       "      <th>Fatigue &amp; Weakness</th>\n",
       "      <th>Dizziness</th>\n",
       "      <th>Swelling (Edema)</th>\n",
       "      <th>Pain in Neck/Jaw/Shoulder/Back</th>\n",
       "      <th>Excessive Sweating</th>\n",
       "      <th>Persistent Cough</th>\n",
       "      <th>Nausea/Vomiting</th>\n",
       "      <th>High Blood Pressure</th>\n",
       "      <th>Chest Discomfort (Activity)</th>\n",
       "      <th>Cold Hands/Feet</th>\n",
       "      <th>Snoring/Sleep Apnea</th>\n",
       "      <th>Anxiety/Feeling of Doom</th>\n",
       "      <th>Age</th>\n",
       "      <th>Stroke Risk (%)</th>\n",
       "      <th>At Risk (Binary)</th>\n",
       "    </tr>\n",
       "  </thead>\n",
       "  <tbody>\n",
       "    <tr>\n",
       "      <th>0</th>\n",
       "      <td>0</td>\n",
       "      <td>1</td>\n",
       "      <td>1</td>\n",
       "      <td>1</td>\n",
       "      <td>0</td>\n",
       "      <td>0</td>\n",
       "      <td>0</td>\n",
       "      <td>1</td>\n",
       "      <td>1</td>\n",
       "      <td>1</td>\n",
       "      <td>0</td>\n",
       "      <td>1</td>\n",
       "      <td>1</td>\n",
       "      <td>0</td>\n",
       "      <td>0</td>\n",
       "      <td>54</td>\n",
       "      <td>58.0</td>\n",
       "      <td>1</td>\n",
       "    </tr>\n",
       "    <tr>\n",
       "      <th>1</th>\n",
       "      <td>0</td>\n",
       "      <td>0</td>\n",
       "      <td>1</td>\n",
       "      <td>0</td>\n",
       "      <td>0</td>\n",
       "      <td>1</td>\n",
       "      <td>0</td>\n",
       "      <td>0</td>\n",
       "      <td>0</td>\n",
       "      <td>0</td>\n",
       "      <td>1</td>\n",
       "      <td>0</td>\n",
       "      <td>1</td>\n",
       "      <td>1</td>\n",
       "      <td>0</td>\n",
       "      <td>49</td>\n",
       "      <td>40.5</td>\n",
       "      <td>0</td>\n",
       "    </tr>\n",
       "    <tr>\n",
       "      <th>2</th>\n",
       "      <td>1</td>\n",
       "      <td>0</td>\n",
       "      <td>0</td>\n",
       "      <td>1</td>\n",
       "      <td>1</td>\n",
       "      <td>1</td>\n",
       "      <td>0</td>\n",
       "      <td>0</td>\n",
       "      <td>1</td>\n",
       "      <td>0</td>\n",
       "      <td>0</td>\n",
       "      <td>0</td>\n",
       "      <td>0</td>\n",
       "      <td>1</td>\n",
       "      <td>0</td>\n",
       "      <td>62</td>\n",
       "      <td>52.0</td>\n",
       "      <td>1</td>\n",
       "    </tr>\n",
       "    <tr>\n",
       "      <th>3</th>\n",
       "      <td>1</td>\n",
       "      <td>0</td>\n",
       "      <td>1</td>\n",
       "      <td>1</td>\n",
       "      <td>0</td>\n",
       "      <td>1</td>\n",
       "      <td>1</td>\n",
       "      <td>1</td>\n",
       "      <td>1</td>\n",
       "      <td>1</td>\n",
       "      <td>1</td>\n",
       "      <td>0</td>\n",
       "      <td>0</td>\n",
       "      <td>0</td>\n",
       "      <td>0</td>\n",
       "      <td>48</td>\n",
       "      <td>60.0</td>\n",
       "      <td>1</td>\n",
       "    </tr>\n",
       "    <tr>\n",
       "      <th>4</th>\n",
       "      <td>0</td>\n",
       "      <td>0</td>\n",
       "      <td>1</td>\n",
       "      <td>0</td>\n",
       "      <td>0</td>\n",
       "      <td>1</td>\n",
       "      <td>0</td>\n",
       "      <td>1</td>\n",
       "      <td>0</td>\n",
       "      <td>1</td>\n",
       "      <td>1</td>\n",
       "      <td>0</td>\n",
       "      <td>0</td>\n",
       "      <td>1</td>\n",
       "      <td>1</td>\n",
       "      <td>61</td>\n",
       "      <td>56.5</td>\n",
       "      <td>1</td>\n",
       "    </tr>\n",
       "  </tbody>\n",
       "</table>\n",
       "</div>"
      ],
      "text/plain": [
       "   Chest Pain  Shortness of Breath  Irregular Heartbeat  Fatigue & Weakness  \\\n",
       "0           0                    1                    1                   1   \n",
       "1           0                    0                    1                   0   \n",
       "2           1                    0                    0                   1   \n",
       "3           1                    0                    1                   1   \n",
       "4           0                    0                    1                   0   \n",
       "\n",
       "   Dizziness  Swelling (Edema)  Pain in Neck/Jaw/Shoulder/Back  \\\n",
       "0          0                 0                               0   \n",
       "1          0                 1                               0   \n",
       "2          1                 1                               0   \n",
       "3          0                 1                               1   \n",
       "4          0                 1                               0   \n",
       "\n",
       "   Excessive Sweating  Persistent Cough  Nausea/Vomiting  High Blood Pressure  \\\n",
       "0                   1                 1                1                    0   \n",
       "1                   0                 0                0                    1   \n",
       "2                   0                 1                0                    0   \n",
       "3                   1                 1                1                    1   \n",
       "4                   1                 0                1                    1   \n",
       "\n",
       "   Chest Discomfort (Activity)  Cold Hands/Feet  Snoring/Sleep Apnea  \\\n",
       "0                            1                1                    0   \n",
       "1                            0                1                    1   \n",
       "2                            0                0                    1   \n",
       "3                            0                0                    0   \n",
       "4                            0                0                    1   \n",
       "\n",
       "   Anxiety/Feeling of Doom  Age  Stroke Risk (%)  At Risk (Binary)  \n",
       "0                        0   54             58.0                 1  \n",
       "1                        0   49             40.5                 0  \n",
       "2                        0   62             52.0                 1  \n",
       "3                        0   48             60.0                 1  \n",
       "4                        1   61             56.5                 1  "
      ]
     },
     "execution_count": 39,
     "metadata": {},
     "output_type": "execute_result"
    }
   ],
   "source": [
    "df.head()"
   ]
  },
  {
   "cell_type": "markdown",
   "id": "e0857da2",
   "metadata": {},
   "source": [
    "**Data Preprocessing**"
   ]
  },
  {
   "cell_type": "code",
   "execution_count": 40,
   "id": "c19a7174",
   "metadata": {},
   "outputs": [],
   "source": [
    "df = df.drop(columns=['Stroke Risk (%)'])"
   ]
  },
  {
   "cell_type": "code",
   "execution_count": 41,
   "id": "f0d22a82",
   "metadata": {},
   "outputs": [
    {
     "data": {
      "text/html": [
       "<div>\n",
       "<style scoped>\n",
       "    .dataframe tbody tr th:only-of-type {\n",
       "        vertical-align: middle;\n",
       "    }\n",
       "\n",
       "    .dataframe tbody tr th {\n",
       "        vertical-align: top;\n",
       "    }\n",
       "\n",
       "    .dataframe thead th {\n",
       "        text-align: right;\n",
       "    }\n",
       "</style>\n",
       "<table border=\"1\" class=\"dataframe\">\n",
       "  <thead>\n",
       "    <tr style=\"text-align: right;\">\n",
       "      <th></th>\n",
       "      <th>Chest Pain</th>\n",
       "      <th>Shortness of Breath</th>\n",
       "      <th>Irregular Heartbeat</th>\n",
       "      <th>Fatigue &amp; Weakness</th>\n",
       "      <th>Dizziness</th>\n",
       "      <th>Swelling (Edema)</th>\n",
       "      <th>Pain in Neck/Jaw/Shoulder/Back</th>\n",
       "      <th>Excessive Sweating</th>\n",
       "      <th>Persistent Cough</th>\n",
       "      <th>Nausea/Vomiting</th>\n",
       "      <th>High Blood Pressure</th>\n",
       "      <th>Chest Discomfort (Activity)</th>\n",
       "      <th>Cold Hands/Feet</th>\n",
       "      <th>Snoring/Sleep Apnea</th>\n",
       "      <th>Anxiety/Feeling of Doom</th>\n",
       "      <th>Age</th>\n",
       "      <th>At Risk (Binary)</th>\n",
       "    </tr>\n",
       "  </thead>\n",
       "  <tbody>\n",
       "    <tr>\n",
       "      <th>0</th>\n",
       "      <td>0</td>\n",
       "      <td>1</td>\n",
       "      <td>1</td>\n",
       "      <td>1</td>\n",
       "      <td>0</td>\n",
       "      <td>0</td>\n",
       "      <td>0</td>\n",
       "      <td>1</td>\n",
       "      <td>1</td>\n",
       "      <td>1</td>\n",
       "      <td>0</td>\n",
       "      <td>1</td>\n",
       "      <td>1</td>\n",
       "      <td>0</td>\n",
       "      <td>0</td>\n",
       "      <td>54</td>\n",
       "      <td>1</td>\n",
       "    </tr>\n",
       "    <tr>\n",
       "      <th>1</th>\n",
       "      <td>0</td>\n",
       "      <td>0</td>\n",
       "      <td>1</td>\n",
       "      <td>0</td>\n",
       "      <td>0</td>\n",
       "      <td>1</td>\n",
       "      <td>0</td>\n",
       "      <td>0</td>\n",
       "      <td>0</td>\n",
       "      <td>0</td>\n",
       "      <td>1</td>\n",
       "      <td>0</td>\n",
       "      <td>1</td>\n",
       "      <td>1</td>\n",
       "      <td>0</td>\n",
       "      <td>49</td>\n",
       "      <td>0</td>\n",
       "    </tr>\n",
       "    <tr>\n",
       "      <th>2</th>\n",
       "      <td>1</td>\n",
       "      <td>0</td>\n",
       "      <td>0</td>\n",
       "      <td>1</td>\n",
       "      <td>1</td>\n",
       "      <td>1</td>\n",
       "      <td>0</td>\n",
       "      <td>0</td>\n",
       "      <td>1</td>\n",
       "      <td>0</td>\n",
       "      <td>0</td>\n",
       "      <td>0</td>\n",
       "      <td>0</td>\n",
       "      <td>1</td>\n",
       "      <td>0</td>\n",
       "      <td>62</td>\n",
       "      <td>1</td>\n",
       "    </tr>\n",
       "    <tr>\n",
       "      <th>3</th>\n",
       "      <td>1</td>\n",
       "      <td>0</td>\n",
       "      <td>1</td>\n",
       "      <td>1</td>\n",
       "      <td>0</td>\n",
       "      <td>1</td>\n",
       "      <td>1</td>\n",
       "      <td>1</td>\n",
       "      <td>1</td>\n",
       "      <td>1</td>\n",
       "      <td>1</td>\n",
       "      <td>0</td>\n",
       "      <td>0</td>\n",
       "      <td>0</td>\n",
       "      <td>0</td>\n",
       "      <td>48</td>\n",
       "      <td>1</td>\n",
       "    </tr>\n",
       "    <tr>\n",
       "      <th>4</th>\n",
       "      <td>0</td>\n",
       "      <td>0</td>\n",
       "      <td>1</td>\n",
       "      <td>0</td>\n",
       "      <td>0</td>\n",
       "      <td>1</td>\n",
       "      <td>0</td>\n",
       "      <td>1</td>\n",
       "      <td>0</td>\n",
       "      <td>1</td>\n",
       "      <td>1</td>\n",
       "      <td>0</td>\n",
       "      <td>0</td>\n",
       "      <td>1</td>\n",
       "      <td>1</td>\n",
       "      <td>61</td>\n",
       "      <td>1</td>\n",
       "    </tr>\n",
       "  </tbody>\n",
       "</table>\n",
       "</div>"
      ],
      "text/plain": [
       "   Chest Pain  Shortness of Breath  Irregular Heartbeat  Fatigue & Weakness  \\\n",
       "0           0                    1                    1                   1   \n",
       "1           0                    0                    1                   0   \n",
       "2           1                    0                    0                   1   \n",
       "3           1                    0                    1                   1   \n",
       "4           0                    0                    1                   0   \n",
       "\n",
       "   Dizziness  Swelling (Edema)  Pain in Neck/Jaw/Shoulder/Back  \\\n",
       "0          0                 0                               0   \n",
       "1          0                 1                               0   \n",
       "2          1                 1                               0   \n",
       "3          0                 1                               1   \n",
       "4          0                 1                               0   \n",
       "\n",
       "   Excessive Sweating  Persistent Cough  Nausea/Vomiting  High Blood Pressure  \\\n",
       "0                   1                 1                1                    0   \n",
       "1                   0                 0                0                    1   \n",
       "2                   0                 1                0                    0   \n",
       "3                   1                 1                1                    1   \n",
       "4                   1                 0                1                    1   \n",
       "\n",
       "   Chest Discomfort (Activity)  Cold Hands/Feet  Snoring/Sleep Apnea  \\\n",
       "0                            1                1                    0   \n",
       "1                            0                1                    1   \n",
       "2                            0                0                    1   \n",
       "3                            0                0                    0   \n",
       "4                            0                0                    1   \n",
       "\n",
       "   Anxiety/Feeling of Doom  Age  At Risk (Binary)  \n",
       "0                        0   54                 1  \n",
       "1                        0   49                 0  \n",
       "2                        0   62                 1  \n",
       "3                        0   48                 1  \n",
       "4                        1   61                 1  "
      ]
     },
     "execution_count": 41,
     "metadata": {},
     "output_type": "execute_result"
    }
   ],
   "source": [
    "df.head()"
   ]
  },
  {
   "cell_type": "code",
   "execution_count": 42,
   "id": "94724528",
   "metadata": {},
   "outputs": [
    {
     "data": {
      "text/plain": [
       "Chest Pain                        0\n",
       "Shortness of Breath               0\n",
       "Irregular Heartbeat               0\n",
       "Fatigue & Weakness                0\n",
       "Dizziness                         0\n",
       "Swelling (Edema)                  0\n",
       "Pain in Neck/Jaw/Shoulder/Back    0\n",
       "Excessive Sweating                0\n",
       "Persistent Cough                  0\n",
       "Nausea/Vomiting                   0\n",
       "High Blood Pressure               0\n",
       "Chest Discomfort (Activity)       0\n",
       "Cold Hands/Feet                   0\n",
       "Snoring/Sleep Apnea               0\n",
       "Anxiety/Feeling of Doom           0\n",
       "Age                               0\n",
       "At Risk (Binary)                  0\n",
       "dtype: int64"
      ]
     },
     "execution_count": 42,
     "metadata": {},
     "output_type": "execute_result"
    }
   ],
   "source": [
    "df.isna().sum()"
   ]
  },
  {
   "cell_type": "code",
   "execution_count": 43,
   "id": "5d29aa46",
   "metadata": {},
   "outputs": [
    {
     "name": "stdout",
     "output_type": "stream",
     "text": [
      "At Risk (Binary)                  1.000000\n",
      "Age                               0.612038\n",
      "Cold Hands/Feet                   0.136642\n",
      "Chest Pain                        0.135365\n",
      "Snoring/Sleep Apnea               0.133681\n",
      "Fatigue & Weakness                0.133060\n",
      "Excessive Sweating                0.132806\n",
      "High Blood Pressure               0.132301\n",
      "Anxiety/Feeling of Doom           0.131466\n",
      "Shortness of Breath               0.130482\n",
      "Dizziness                         0.130444\n",
      "Persistent Cough                  0.128700\n",
      "Nausea/Vomiting                   0.128645\n",
      "Irregular Heartbeat               0.124150\n",
      "Chest Discomfort (Activity)       0.123640\n",
      "Swelling (Edema)                  0.122416\n",
      "Pain in Neck/Jaw/Shoulder/Back    0.120280\n",
      "Name: At Risk (Binary), dtype: float64\n"
     ]
    }
   ],
   "source": [
    "correlation = df.corr(method='pearson')\n",
    "df_corr = correlation['At Risk (Binary)'].sort_values(ascending=False)\n",
    "print(df_corr)"
   ]
  },
  {
   "cell_type": "markdown",
   "id": "aae71d31",
   "metadata": {},
   "source": [
    "**Data Splitting**"
   ]
  },
  {
   "cell_type": "code",
   "execution_count": 44,
   "id": "f2ad3c38",
   "metadata": {},
   "outputs": [],
   "source": [
    "X = df.drop(columns=['At Risk (Binary)'])\n",
    "y = df['At Risk (Binary)']"
   ]
  },
  {
   "cell_type": "code",
   "execution_count": 45,
   "id": "67352430",
   "metadata": {},
   "outputs": [],
   "source": [
    "X_train, X_temp, y_train, y_temp = train_test_split(X, y, test_size=0.2, random_state=42)"
   ]
  },
  {
   "cell_type": "code",
   "execution_count": 46,
   "id": "dd8251d6",
   "metadata": {},
   "outputs": [],
   "source": [
    "X_val, X_test, y_val, y_test = train_test_split(X_temp, y_temp, test_size=0.5, random_state=42)"
   ]
  },
  {
   "cell_type": "markdown",
   "id": "ffac061a",
   "metadata": {},
   "source": [
    "- Resampling"
   ]
  },
  {
   "cell_type": "code",
   "execution_count": 47,
   "id": "4d7508e8",
   "metadata": {},
   "outputs": [],
   "source": [
    "smote = SMOTE(random_state=42)\n",
    "X_train, y_train = smote.fit_resample(X_train, y_train)"
   ]
  },
  {
   "cell_type": "markdown",
   "id": "159a9a60",
   "metadata": {},
   "source": [
    "**Feature Scaling**"
   ]
  },
  {
   "cell_type": "code",
   "execution_count": 48,
   "id": "e1cc8d35",
   "metadata": {},
   "outputs": [
    {
     "data": {
      "text/plain": [
       "['scaler.pkl']"
      ]
     },
     "execution_count": 48,
     "metadata": {},
     "output_type": "execute_result"
    }
   ],
   "source": [
    "scaler = StandardScaler()\n",
    "X_train = scaler.fit_transform(X_train)\n",
    "X_val = scaler.transform(X_val)\n",
    "X_test = scaler.transform(X_test)\n",
    "\n",
    "dump(scaler, 'scaler.pkl')"
   ]
  },
  {
   "cell_type": "code",
   "execution_count": 49,
   "id": "e348fd60",
   "metadata": {},
   "outputs": [
    {
     "data": {
      "text/plain": [
       "array([[ 1.07808996, -0.92254619, -0.92541205, ..., -0.92751504,\n",
       "        -0.92797721, -1.42409424],\n",
       "       [-0.92756638,  1.08395657, -0.92541205, ...,  1.07814964,\n",
       "         1.07761267, -1.04396998],\n",
       "       [-0.92756638,  1.08395657,  1.08059972, ..., -0.92751504,\n",
       "         1.07761267,  1.71193094],\n",
       "       ...,\n",
       "       [ 1.07808996, -0.92254619, -0.92541205, ..., -0.92751504,\n",
       "         1.07761267, -0.75887678],\n",
       "       [-0.92756638,  1.08395657, -0.92541205, ...,  1.07814964,\n",
       "        -0.92797721, -0.94893891],\n",
       "       [-0.92756638,  1.08395657, -0.92541205, ..., -0.92751504,\n",
       "        -0.92797721, -0.04614379]], shape=(72672, 16))"
      ]
     },
     "execution_count": 49,
     "metadata": {},
     "output_type": "execute_result"
    }
   ],
   "source": [
    "X_train"
   ]
  },
  {
   "cell_type": "markdown",
   "id": "df8b0529",
   "metadata": {},
   "source": [
    "**Modelling**"
   ]
  },
  {
   "cell_type": "code",
   "execution_count": 50,
   "id": "c9ac69d4",
   "metadata": {},
   "outputs": [
    {
     "data": {
      "text/plain": [
       "<catboost.core.CatBoostClassifier at 0x20fd17b2d20>"
      ]
     },
     "execution_count": 50,
     "metadata": {},
     "output_type": "execute_result"
    }
   ],
   "source": [
    "cb = CatBoostClassifier(verbose=0, random_state=42)\n",
    "cb.fit(X_train, y_train)"
   ]
  },
  {
   "cell_type": "code",
   "execution_count": 51,
   "id": "b21d34ea",
   "metadata": {},
   "outputs": [],
   "source": [
    "y_pred = cb.predict(X_val)"
   ]
  },
  {
   "cell_type": "code",
   "execution_count": 52,
   "id": "6e518793",
   "metadata": {},
   "outputs": [
    {
     "name": "stdout",
     "output_type": "stream",
     "text": [
      "Accuracy: 1.0\n",
      "\n",
      "Classification Report:\n",
      "              precision    recall  f1-score   support\n",
      "\n",
      "           0       1.00      1.00      1.00      2444\n",
      "           1       1.00      1.00      1.00      4556\n",
      "\n",
      "    accuracy                           1.00      7000\n",
      "   macro avg       1.00      1.00      1.00      7000\n",
      "weighted avg       1.00      1.00      1.00      7000\n",
      "\n",
      "\n",
      "Confusion Matrix:\n",
      "[[2444    0]\n",
      " [   0 4556]]\n",
      "\n"
     ]
    }
   ],
   "source": [
    "print(f\"Accuracy: {accuracy_score(y_val, y_pred)}\")\n",
    "print()\n",
    "print(f\"Classification Report:\\n{classification_report(y_val, y_pred)}\")\n",
    "print()\n",
    "print(f\"Confusion Matrix:\\n{confusion_matrix(y_val, y_pred)}\")\n",
    "print()"
   ]
  },
  {
   "cell_type": "markdown",
   "id": "d7155c69",
   "metadata": {},
   "source": [
    "**BLIND TEST**"
   ]
  },
  {
   "cell_type": "code",
   "execution_count": 54,
   "id": "f906faf6",
   "metadata": {},
   "outputs": [
    {
     "name": "stdout",
     "output_type": "stream",
     "text": [
      "Accuracy: 1.0\n",
      "\n",
      "Classification Report:\n",
      "              precision    recall  f1-score   support\n",
      "\n",
      "           0       1.00      1.00      1.00      2448\n",
      "           1       1.00      1.00      1.00      4552\n",
      "\n",
      "    accuracy                           1.00      7000\n",
      "   macro avg       1.00      1.00      1.00      7000\n",
      "weighted avg       1.00      1.00      1.00      7000\n",
      "\n",
      "\n",
      "Confusion Matrix:\n",
      "[[2448    0]\n",
      " [   0 4552]]\n",
      "\n"
     ]
    }
   ],
   "source": [
    "y_pred2 = cb.predict(X_test)\n",
    "print(f\"Accuracy: {accuracy_score(y_test, y_pred2)}\")\n",
    "print()\n",
    "print(f\"Classification Report:\\n{classification_report(y_test, y_pred2)}\")\n",
    "print()\n",
    "print(f\"Confusion Matrix:\\n{confusion_matrix(y_test, y_pred2)}\")\n",
    "print()"
   ]
  },
  {
   "cell_type": "code",
   "execution_count": 69,
   "id": "b397062f",
   "metadata": {},
   "outputs": [
    {
     "name": "stdout",
     "output_type": "stream",
     "text": [
      "Predicted Class: [1]\n",
      "Stroke\n"
     ]
    },
    {
     "name": "stderr",
     "output_type": "stream",
     "text": [
      "c:\\Users\\Denzel\\AppData\\Local\\Programs\\Python\\Python312\\Lib\\site-packages\\sklearn\\utils\\validation.py:2739: UserWarning: X does not have valid feature names, but StandardScaler was fitted with feature names\n",
      "  warnings.warn(\n"
     ]
    }
   ],
   "source": [
    "# Taking some data from test set for single prediction test\n",
    "new_data = scaler.transform([[1, 0, 0, 1, 0, 1, 0, 1, 1, 0, 0, 0, 1, 1, 0, 77]]) # Stroke\n",
    "y_blind = cb.predict(new_data)\n",
    "print(F\"Predicted Class: {y_blind}\")\n",
    "if y_blind == 0: \n",
    "    print(\"Not Stroke\")\n",
    "elif y_blind == 1:\n",
    "    print(\"Stroke\")\n",
    "else:\n",
    "    print(\"Error\")"
   ]
  },
  {
   "cell_type": "code",
   "execution_count": 72,
   "id": "e138e668",
   "metadata": {},
   "outputs": [
    {
     "name": "stdout",
     "output_type": "stream",
     "text": [
      "Predicted Class: [0]\n",
      "Not Stroke\n"
     ]
    },
    {
     "name": "stderr",
     "output_type": "stream",
     "text": [
      "c:\\Users\\Denzel\\AppData\\Local\\Programs\\Python\\Python312\\Lib\\site-packages\\sklearn\\utils\\validation.py:2739: UserWarning: X does not have valid feature names, but StandardScaler was fitted with feature names\n",
      "  warnings.warn(\n"
     ]
    }
   ],
   "source": [
    "# Taking some data from test set for single prediction test\n",
    "new_data = scaler.transform([[1, 0, 0, 0, 1, 0, 0, 0, 0, 0, 0, 0, 1, 1, 1, 57]]) # Not Stroke\n",
    "y_blind = cb.predict(new_data)\n",
    "print(F\"Predicted Class: {y_blind}\")\n",
    "if y_blind == 0: \n",
    "    print(\"Not Stroke\")\n",
    "elif y_blind == 1:\n",
    "    print(\"Stroke\")\n",
    "else:\n",
    "    print(\"Error\")"
   ]
  },
  {
   "cell_type": "code",
   "execution_count": 58,
   "id": "fb045258",
   "metadata": {},
   "outputs": [
    {
     "name": "stdout",
     "output_type": "stream",
     "text": [
      "[0]\n"
     ]
    }
   ],
   "source": [
    "y_blind = cb.predict(new_data)\n",
    "print(y_blind)"
   ]
  },
  {
   "cell_type": "markdown",
   "id": "741316c2",
   "metadata": {},
   "source": [
    "**Saving Model**"
   ]
  },
  {
   "cell_type": "code",
   "execution_count": 59,
   "id": "e2943bb0",
   "metadata": {},
   "outputs": [
    {
     "data": {
      "text/plain": [
       "['model.joblib']"
      ]
     },
     "execution_count": 59,
     "metadata": {},
     "output_type": "execute_result"
    }
   ],
   "source": [
    "# Saving Model\n",
    "dump(cb, 'model.joblib')"
   ]
  },
  {
   "cell_type": "code",
   "execution_count": 60,
   "id": "51601a8f",
   "metadata": {},
   "outputs": [],
   "source": [
    "# Loading Saved Model\n",
    "loaded_model = load('model.joblib')\n",
    "loaded_scaler = load('scaler.pkl')\n",
    "y_pred_loaded_model = loaded_model.predict(X_test)"
   ]
  },
  {
   "cell_type": "code",
   "execution_count": 61,
   "id": "c9843dd5",
   "metadata": {},
   "outputs": [
    {
     "name": "stdout",
     "output_type": "stream",
     "text": [
      "===== Loaded Model Performance =====\n",
      "Accuracy: 1.0\n",
      "\n",
      "Classification Report:\n",
      "              precision    recall  f1-score   support\n",
      "\n",
      "           0       1.00      1.00      1.00      2448\n",
      "           1       1.00      1.00      1.00      4552\n",
      "\n",
      "    accuracy                           1.00      7000\n",
      "   macro avg       1.00      1.00      1.00      7000\n",
      "weighted avg       1.00      1.00      1.00      7000\n",
      "\n",
      "\n",
      "Confusion Matrix:\n",
      "[[2448    0]\n",
      " [   0 4552]]\n",
      "\n"
     ]
    }
   ],
   "source": [
    "print(\"===== Loaded Model Performance =====\")\n",
    "print(f\"Accuracy: {accuracy_score(y_test, y_pred_loaded_model)}\")\n",
    "print()\n",
    "print(f\"Classification Report:\\n{classification_report(y_test, y_pred_loaded_model)}\")\n",
    "print()\n",
    "print(f\"Confusion Matrix:\\n{confusion_matrix(y_test, y_pred_loaded_model)}\")\n",
    "print()"
   ]
  },
  {
   "cell_type": "code",
   "execution_count": 63,
   "id": "371c7143",
   "metadata": {},
   "outputs": [
    {
     "data": {
      "image/png": "[encoded data removed]",
      "text/plain": [
       "<Figure size 640x480 with 2 Axes>"
      ]
     },
     "metadata": {},
     "output_type": "display_data"
    }
   ],
   "source": [
    "sns.heatmap(confusion_matrix(y_test, y_pred_loaded_model), annot=True, fmt='d', cmap='Blues')\n",
    "plt.title('CatBoost Confusion Matrix')\n",
    "plt.xlabel('Predicted')\n",
    "plt.ylabel('Actual')\n",
    "plt.show()"
   ]
  },
  {
   "cell_type": "code",
   "execution_count": null,
   "id": "e1ec5e92",
   "metadata": {},
   "outputs": [],
   "source": []
  }
 ],
 "metadata": {
  "kernelspec": {
   "display_name": "Python 3",
   "language": "python",
   "name": "python3"
  },
  "language_info": {
   "codemirror_mode": {
    "name": "ipython",
    "version": 3
   },
   "file_extension": ".py",
   "mimetype": "text/x-python",
   "name": "python",
   "nbconvert_exporter": "python",
   "pygments_lexer": "ipython3",
   "version": "3.12.10"
  }
 },
 "nbformat": 4,
 "nbformat_minor": 5
}
